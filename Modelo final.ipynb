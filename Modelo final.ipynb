{
 "cells": [
  {
   "cell_type": "code",
   "execution_count": 50,
   "metadata": {},
   "outputs": [],
   "source": [
    "#leer datos\n",
    "import numpy as np\n",
    "import pandas as pd\n",
    "my_data = pd.read_csv('intents_raw.csv', sep=',', header=None)\n",
    "my_data\n",
    "text = np.array(my_data[1]) #texto asociado a la intencion\n",
    "labels = np.array(my_data[0]) #intencion"
   ]
  },
  {
   "cell_type": "code",
   "execution_count": 51,
   "metadata": {},
   "outputs": [],
   "source": [
    "#limpiado datos signos de puntuacion, todo a miniscula y quitar las tildes\n",
    "import string\n",
    "import re\n",
    "def cleanText(textToClean):\n",
    "    table = str.maketrans('', '', string.punctuation)\n",
    "    stripped = [w.translate(table) for w in textToClean]\n",
    "    return stripped\n",
    "\n",
    "def toLowerCase(textToClean):\n",
    "    textToClean = [word.lower() for word in textToClean]\n",
    "    return textToClean\n",
    "    \n",
    "def remove_accents_wrapper(textToClean):\n",
    "    textToClean = re.sub(u\"[àáâãäå]\", 'a', textToClean)\n",
    "    textToClean = re.sub(u\"[èéêë]\", 'e', textToClean)\n",
    "    textToClean = re.sub(u\"[ìíîï]\", 'i', textToClean)\n",
    "    textToClean = re.sub(u\"[òóôõö]\", 'o', textToClean)\n",
    "    textToClean = re.sub(u\"[ùúûü]\", 'u', textToClean)\n",
    "    textToClean = re.sub(u\"[ñ]\", 'n', textToClean)\n",
    "    return textToClean\n",
    "\n",
    "def remove_accents(textToClean):\n",
    "    textToClean = [remove_accents_wrapper(word) for word in textToClean]\n",
    "    return textToClean\n",
    "\n",
    "text = remove_accents(toLowerCase(cleanText(text)))"
   ]
  },
  {
   "cell_type": "code",
   "execution_count": 52,
   "metadata": {},
   "outputs": [],
   "source": [
    "#test de prueba del 30 porciento\n",
    "test_size = 0.3\n",
    "from sklearn.model_selection import train_test_split\n",
    "train_txt,test_txt,train_label,test_labels = train_test_split(text,labels,test_size = test_size)"
   ]
  },
  {
   "cell_type": "code",
   "execution_count": 53,
   "metadata": {},
   "outputs": [],
   "source": [
    "#tokenizar y aplicar padding\n",
    "from tensorflow.python.keras.preprocessing.text import Tokenizer\n",
    "from tensorflow.python.keras.preprocessing.sequence import pad_sequences\n",
    "max_num_words = 4000\n",
    "percentil = 100 #100 - percentil seria el porcentaje de las colas en una disbrucion normal a no ser tomado en cuenta, introducimos variabilidad al test de entrenamiento\n",
    "classes = np.unique(labels)\n",
    "\n",
    "#tokenizamos\n",
    "tokenizer = Tokenizer(num_words=max_num_words)\n",
    "tokenizer.fit_on_texts(train_txt)\n",
    "word_index = tokenizer.word_index #obtenemos el diccionario\n",
    "\n",
    "# añadimos padding\n",
    "ls=[]\n",
    "for c in train_txt:\n",
    "    ls.append(len(c.split()))\n",
    "maxLen=int(np.percentile(ls, percentil))\n",
    "train_sequences = tokenizer.texts_to_sequences(train_txt)\n",
    "train_sequences = pad_sequences(train_sequences, maxlen=maxLen,padding='post')\n",
    "test_sequences = tokenizer.texts_to_sequences(test_txt)\n",
    "test_sequences = pad_sequences(test_sequences, maxlen=maxLen, padding='post')"
   ]
  },
  {
   "cell_type": "code",
   "execution_count": 54,
   "metadata": {},
   "outputs": [],
   "source": [
    "#aplicamos One-Hot Encoding\n",
    "from sklearn.preprocessing import OneHotEncoder,LabelEncoder\n",
    "\n",
    "label_encoder = LabelEncoder()\n",
    "integer_encoded = label_encoder.fit_transform(classes)\n",
    "\n",
    "onehot_encoder = OneHotEncoder(sparse=False)\n",
    "integer_encoded = integer_encoded.reshape(len(integer_encoded), 1)\n",
    "onehot_encoder.fit(integer_encoded)\n",
    "train_label_encoded = label_encoder.transform(train_label)\n",
    "train_label_encoded = train_label_encoded.reshape(len(train_label_encoded), 1)\n",
    "train_label = onehot_encoder.transform(train_label_encoded)\n",
    "test_labels_encoded = label_encoder.transform(test_labels)\n",
    "test_labels_encoded = test_labels_encoded.reshape(len(test_labels_encoded), 1)\n",
    "test_labels = onehot_encoder.transform(test_labels_encoded)\n"
   ]
  },
  {
   "cell_type": "code",
   "execution_count": 58,
   "metadata": {},
   "outputs": [],
   "source": [
    "#modelo de aprendizaje\n",
    "num_words = min(max_num_words, len(word_index))+1\n",
    "from tensorflow.python.keras.models import Sequential\n",
    "from tensorflow.python.keras.layers import Dense, Input, Dropout, LSTM, Activation, Bidirectional,Embedding\n",
    "model = Sequential()\n",
    "model.add(Embedding(num_words, 100, trainable=False,input_length=train_sequences.shape[1]))\n",
    "model.add(Bidirectional(LSTM(256, return_sequences=True, recurrent_dropout=0.1, dropout=0.1), 'concat'))\n",
    "model.add(Dropout(0.3))\n",
    "model.add(LSTM(256, return_sequences=False, recurrent_dropout=0.1, dropout=0.1))\n",
    "model.add(Dropout(0.3))\n",
    "model.add(Dense(50, activation='relu'))\n",
    "model.add(Dropout(0.3))\n",
    "model.add(Dense(classes.shape[0], activation='softmax'))\n",
    "model.compile(loss='categorical_crossentropy', optimizer='adam', metrics=['acc'])"
   ]
  },
  {
   "cell_type": "code",
   "execution_count": 59,
   "metadata": {},
   "outputs": [
    {
     "name": "stdout",
     "output_type": "stream",
     "text": [
      "Train on 67 samples, validate on 29 samples\n",
      "Epoch 1/20\n",
      "67/67 [==============================] - 4s 53ms/sample - loss: 2.1974 - acc: 0.0597 - val_loss: 2.1918 - val_acc: 0.2759\n",
      "Epoch 2/20\n",
      "67/67 [==============================] - 0s 6ms/sample - loss: 2.1898 - acc: 0.1642 - val_loss: 2.1830 - val_acc: 0.0690\n",
      "Epoch 3/20\n",
      "67/67 [==============================] - 0s 6ms/sample - loss: 2.1803 - acc: 0.1493 - val_loss: 2.1709 - val_acc: 0.0690\n",
      "Epoch 4/20\n",
      "67/67 [==============================] - 0s 6ms/sample - loss: 2.1630 - acc: 0.1493 - val_loss: 2.1557 - val_acc: 0.0690\n",
      "Epoch 5/20\n",
      "67/67 [==============================] - 0s 6ms/sample - loss: 2.1718 - acc: 0.0597 - val_loss: 2.1430 - val_acc: 0.0690\n",
      "Epoch 6/20\n",
      "67/67 [==============================] - 0s 6ms/sample - loss: 2.1638 - acc: 0.1045 - val_loss: 2.1370 - val_acc: 0.0690\n",
      "Epoch 7/20\n",
      "67/67 [==============================] - 0s 6ms/sample - loss: 2.1734 - acc: 0.1194 - val_loss: 2.1318 - val_acc: 0.2414\n",
      "Epoch 8/20\n",
      "67/67 [==============================] - 0s 6ms/sample - loss: 2.1542 - acc: 0.1791 - val_loss: 2.1273 - val_acc: 0.2414\n",
      "Epoch 9/20\n",
      "67/67 [==============================] - 0s 6ms/sample - loss: 2.1550 - acc: 0.1343 - val_loss: 2.1254 - val_acc: 0.2414\n",
      "Epoch 10/20\n",
      "67/67 [==============================] - 0s 6ms/sample - loss: 2.1702 - acc: 0.1642 - val_loss: 2.1296 - val_acc: 0.2414\n",
      "Epoch 11/20\n",
      "67/67 [==============================] - 0s 7ms/sample - loss: 2.1826 - acc: 0.2090 - val_loss: 2.1349 - val_acc: 0.2414\n",
      "Epoch 12/20\n",
      "67/67 [==============================] - 0s 7ms/sample - loss: 2.1524 - acc: 0.1493 - val_loss: 2.1416 - val_acc: 0.2414\n",
      "Epoch 13/20\n",
      "67/67 [==============================] - 0s 7ms/sample - loss: 2.1112 - acc: 0.0896 - val_loss: 2.1478 - val_acc: 0.2069\n",
      "Epoch 14/20\n",
      "67/67 [==============================] - 0s 7ms/sample - loss: 2.1355 - acc: 0.1493 - val_loss: 2.1448 - val_acc: 0.2414\n",
      "Epoch 15/20\n",
      "67/67 [==============================] - 0s 7ms/sample - loss: 2.1320 - acc: 0.1343 - val_loss: 2.1359 - val_acc: 0.2414\n",
      "Epoch 16/20\n",
      "67/67 [==============================] - 0s 7ms/sample - loss: 2.0922 - acc: 0.1493 - val_loss: 2.1309 - val_acc: 0.2414\n",
      "Epoch 17/20\n",
      "67/67 [==============================] - 0s 7ms/sample - loss: 2.1146 - acc: 0.1194 - val_loss: 2.1084 - val_acc: 0.2414\n",
      "Epoch 18/20\n",
      "67/67 [==============================] - 0s 7ms/sample - loss: 2.0570 - acc: 0.2090 - val_loss: 2.0885 - val_acc: 0.2414\n",
      "Epoch 19/20\n",
      "67/67 [==============================] - 0s 7ms/sample - loss: 2.0730 - acc: 0.1940 - val_loss: 2.0712 - val_acc: 0.2414\n",
      "Epoch 20/20\n",
      "67/67 [==============================] - 0s 7ms/sample - loss: 2.0837 - acc: 0.1791 - val_loss: 2.0543 - val_acc: 0.2414\n"
     ]
    }
   ],
   "source": [
    "history = model.fit(train_sequences, train_label, epochs = 20,\n",
    "          batch_size = 64, shuffle=True,\n",
    "          validation_data=[test_sequences, test_labels])"
   ]
  },
  {
   "cell_type": "code",
   "execution_count": 48,
   "metadata": {},
   "outputs": [
    {
     "data": {
      "image/png": "[encoded data removed]",
      "text/plain": [
       "<Figure size 432x288 with 1 Axes>"
      ]
     },
     "metadata": {
      "needs_background": "light"
     },
     "output_type": "display_data"
    }
   ],
   "source": [
    "import matplotlib.pyplot as plt\n",
    "%matplotlib inline\n",
    "plt.plot(history.history['acc'])\n",
    "plt.plot(history.history['val_acc'])\n",
    "plt.title('Model Accuracy')\n",
    "plt.ylabel('Accuracy')\n",
    "plt.xlabel('Epoch')\n",
    "plt.legend(['Train', 'Validation'], loc='upper left')\n",
    "plt.show()"
   ]
  },
  {
   "cell_type": "code",
   "execution_count": 49,
   "metadata": {},
   "outputs": [
    {
     "data": {
      "image/png": "[encoded data removed]",
      "text/plain": [
       "<Figure size 432x288 with 1 Axes>"
      ]
     },
     "metadata": {
      "needs_background": "light"
     },
     "output_type": "display_data"
    }
   ],
   "source": [
    "import matplotlib.pyplot as plt\n",
    "%matplotlib inline\n",
    "plt.plot(history.history['loss'])\n",
    "plt.plot(history.history['val_loss'])\n",
    "plt.title('Model Loss')\n",
    "plt.ylabel('Loss')\n",
    "plt.xlabel('Epoch')\n",
    "plt.legend(['Train', 'Validation'], loc='upper left')\n",
    "plt.show()"
   ]
  }
 ],
 "metadata": {
  "kernelspec": {
   "display_name": "Python 3",
   "language": "python",
   "name": "python3"
  },
  "language_info": {
   "codemirror_mode": {
    "name": "ipython",
    "version": 3
   },
   "file_extension": ".py",
   "mimetype": "text/x-python",
   "name": "python",
   "nbconvert_exporter": "python",
   "pygments_lexer": "ipython3",
   "version": "3.7.10"
  }
 },
 "nbformat": 4,
 "nbformat_minor": 2
}
